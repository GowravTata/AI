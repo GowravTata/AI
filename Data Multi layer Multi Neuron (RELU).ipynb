{
 "cells": [
  {
   "cell_type": "code",
   "execution_count": 1,
   "metadata": {},
   "outputs": [],
   "source": [
    "import pandas as pd"
   ]
  },
  {
   "cell_type": "code",
   "execution_count": 2,
   "metadata": {},
   "outputs": [],
   "source": [
    "data=pd.read_csv('data.csv')"
   ]
  },
  {
   "cell_type": "code",
   "execution_count": 3,
   "metadata": {},
   "outputs": [
    {
     "data": {
      "text/html": [
       "<div>\n",
       "<style scoped>\n",
       "    .dataframe tbody tr th:only-of-type {\n",
       "        vertical-align: middle;\n",
       "    }\n",
       "\n",
       "    .dataframe tbody tr th {\n",
       "        vertical-align: top;\n",
       "    }\n",
       "\n",
       "    .dataframe thead th {\n",
       "        text-align: right;\n",
       "    }\n",
       "</style>\n",
       "<table border=\"1\" class=\"dataframe\">\n",
       "  <thead>\n",
       "    <tr style=\"text-align: right;\">\n",
       "      <th></th>\n",
       "      <th>label</th>\n",
       "      <th>x1</th>\n",
       "      <th>x2</th>\n",
       "    </tr>\n",
       "  </thead>\n",
       "  <tbody>\n",
       "    <tr>\n",
       "      <th>0</th>\n",
       "      <td>1</td>\n",
       "      <td>2.6487</td>\n",
       "      <td>4.5192</td>\n",
       "    </tr>\n",
       "    <tr>\n",
       "      <th>1</th>\n",
       "      <td>1</td>\n",
       "      <td>1.5438</td>\n",
       "      <td>2.4443</td>\n",
       "    </tr>\n",
       "    <tr>\n",
       "      <th>2</th>\n",
       "      <td>1</td>\n",
       "      <td>1.8990</td>\n",
       "      <td>4.2409</td>\n",
       "    </tr>\n",
       "    <tr>\n",
       "      <th>3</th>\n",
       "      <td>1</td>\n",
       "      <td>2.4711</td>\n",
       "      <td>5.8097</td>\n",
       "    </tr>\n",
       "    <tr>\n",
       "      <th>4</th>\n",
       "      <td>1</td>\n",
       "      <td>3.3590</td>\n",
       "      <td>6.4423</td>\n",
       "    </tr>\n",
       "    <tr>\n",
       "      <th>5</th>\n",
       "      <td>1</td>\n",
       "      <td>3.2406</td>\n",
       "      <td>5.8097</td>\n",
       "    </tr>\n",
       "    <tr>\n",
       "      <th>6</th>\n",
       "      <td>1</td>\n",
       "      <td>3.8128</td>\n",
       "      <td>6.3917</td>\n",
       "    </tr>\n",
       "    <tr>\n",
       "      <th>7</th>\n",
       "      <td>1</td>\n",
       "      <td>4.4441</td>\n",
       "      <td>6.8725</td>\n",
       "    </tr>\n",
       "    <tr>\n",
       "      <th>8</th>\n",
       "      <td>1</td>\n",
       "      <td>3.6747</td>\n",
       "      <td>6.7966</td>\n",
       "    </tr>\n",
       "    <tr>\n",
       "      <th>9</th>\n",
       "      <td>0</td>\n",
       "      <td>7.5417</td>\n",
       "      <td>4.0891</td>\n",
       "    </tr>\n",
       "    <tr>\n",
       "      <th>10</th>\n",
       "      <td>0</td>\n",
       "      <td>7.2063</td>\n",
       "      <td>2.3937</td>\n",
       "    </tr>\n",
       "    <tr>\n",
       "      <th>11</th>\n",
       "      <td>0</td>\n",
       "      <td>6.5355</td>\n",
       "      <td>1.3310</td>\n",
       "    </tr>\n",
       "    <tr>\n",
       "      <th>12</th>\n",
       "      <td>0</td>\n",
       "      <td>5.4503</td>\n",
       "      <td>1.7358</td>\n",
       "    </tr>\n",
       "    <tr>\n",
       "      <th>13</th>\n",
       "      <td>0</td>\n",
       "      <td>5.8449</td>\n",
       "      <td>2.4443</td>\n",
       "    </tr>\n",
       "    <tr>\n",
       "      <th>14</th>\n",
       "      <td>0</td>\n",
       "      <td>4.8979</td>\n",
       "      <td>3.1781</td>\n",
       "    </tr>\n",
       "    <tr>\n",
       "      <th>15</th>\n",
       "      <td>0</td>\n",
       "      <td>5.8055</td>\n",
       "      <td>4.6711</td>\n",
       "    </tr>\n",
       "    <tr>\n",
       "      <th>16</th>\n",
       "      <td>0</td>\n",
       "      <td>7.3641</td>\n",
       "      <td>5.9868</td>\n",
       "    </tr>\n",
       "    <tr>\n",
       "      <th>17</th>\n",
       "      <td>0</td>\n",
       "      <td>6.2592</td>\n",
       "      <td>4.6711</td>\n",
       "    </tr>\n",
       "    <tr>\n",
       "      <th>18</th>\n",
       "      <td>0</td>\n",
       "      <td>8.3703</td>\n",
       "      <td>7.5810</td>\n",
       "    </tr>\n",
       "    <tr>\n",
       "      <th>19</th>\n",
       "      <td>0</td>\n",
       "      <td>8.5676</td>\n",
       "      <td>4.6457</td>\n",
       "    </tr>\n",
       "    <tr>\n",
       "      <th>20</th>\n",
       "      <td>0</td>\n",
       "      <td>8.1676</td>\n",
       "      <td>4.6457</td>\n",
       "    </tr>\n",
       "  </tbody>\n",
       "</table>\n",
       "</div>"
      ],
      "text/plain": [
       "    label      x1      x2\n",
       "0       1  2.6487  4.5192\n",
       "1       1  1.5438  2.4443\n",
       "2       1  1.8990  4.2409\n",
       "3       1  2.4711  5.8097\n",
       "4       1  3.3590  6.4423\n",
       "5       1  3.2406  5.8097\n",
       "6       1  3.8128  6.3917\n",
       "7       1  4.4441  6.8725\n",
       "8       1  3.6747  6.7966\n",
       "9       0  7.5417  4.0891\n",
       "10      0  7.2063  2.3937\n",
       "11      0  6.5355  1.3310\n",
       "12      0  5.4503  1.7358\n",
       "13      0  5.8449  2.4443\n",
       "14      0  4.8979  3.1781\n",
       "15      0  5.8055  4.6711\n",
       "16      0  7.3641  5.9868\n",
       "17      0  6.2592  4.6711\n",
       "18      0  8.3703  7.5810\n",
       "19      0  8.5676  4.6457\n",
       "20      0  8.1676  4.6457"
      ]
     },
     "execution_count": 3,
     "metadata": {},
     "output_type": "execute_result"
    }
   ],
   "source": [
    "data"
   ]
  },
  {
   "cell_type": "code",
   "execution_count": 4,
   "metadata": {},
   "outputs": [],
   "source": [
    "X_input=data[['x1','x2']]\n",
    "Y_label=data[['label']]"
   ]
  },
  {
   "cell_type": "code",
   "execution_count": 5,
   "metadata": {},
   "outputs": [],
   "source": [
    "import numpy as np"
   ]
  },
  {
   "cell_type": "code",
   "execution_count": 6,
   "metadata": {},
   "outputs": [],
   "source": [
    "import tensorflow as tf"
   ]
  },
  {
   "cell_type": "code",
   "execution_count": 7,
   "metadata": {},
   "outputs": [],
   "source": [
    "import matplotlib.pyplot as plt\n",
    "%matplotlib inline\n",
    "from sklearn.metrics import confusion_matrix\n",
    "from sklearn.metrics import accuracy_score"
   ]
  },
  {
   "cell_type": "code",
   "execution_count": 8,
   "metadata": {},
   "outputs": [
    {
     "data": {
      "text/html": [
       "<div>\n",
       "<style scoped>\n",
       "    .dataframe tbody tr th:only-of-type {\n",
       "        vertical-align: middle;\n",
       "    }\n",
       "\n",
       "    .dataframe tbody tr th {\n",
       "        vertical-align: top;\n",
       "    }\n",
       "\n",
       "    .dataframe thead th {\n",
       "        text-align: right;\n",
       "    }\n",
       "</style>\n",
       "<table border=\"1\" class=\"dataframe\">\n",
       "  <thead>\n",
       "    <tr style=\"text-align: right;\">\n",
       "      <th></th>\n",
       "      <th>x1</th>\n",
       "      <th>x2</th>\n",
       "    </tr>\n",
       "  </thead>\n",
       "  <tbody>\n",
       "    <tr>\n",
       "      <th>0</th>\n",
       "      <td>2.6487</td>\n",
       "      <td>4.5192</td>\n",
       "    </tr>\n",
       "    <tr>\n",
       "      <th>1</th>\n",
       "      <td>1.5438</td>\n",
       "      <td>2.4443</td>\n",
       "    </tr>\n",
       "    <tr>\n",
       "      <th>2</th>\n",
       "      <td>1.8990</td>\n",
       "      <td>4.2409</td>\n",
       "    </tr>\n",
       "    <tr>\n",
       "      <th>3</th>\n",
       "      <td>2.4711</td>\n",
       "      <td>5.8097</td>\n",
       "    </tr>\n",
       "    <tr>\n",
       "      <th>4</th>\n",
       "      <td>3.3590</td>\n",
       "      <td>6.4423</td>\n",
       "    </tr>\n",
       "    <tr>\n",
       "      <th>5</th>\n",
       "      <td>3.2406</td>\n",
       "      <td>5.8097</td>\n",
       "    </tr>\n",
       "    <tr>\n",
       "      <th>6</th>\n",
       "      <td>3.8128</td>\n",
       "      <td>6.3917</td>\n",
       "    </tr>\n",
       "    <tr>\n",
       "      <th>7</th>\n",
       "      <td>4.4441</td>\n",
       "      <td>6.8725</td>\n",
       "    </tr>\n",
       "    <tr>\n",
       "      <th>8</th>\n",
       "      <td>3.6747</td>\n",
       "      <td>6.7966</td>\n",
       "    </tr>\n",
       "    <tr>\n",
       "      <th>9</th>\n",
       "      <td>7.5417</td>\n",
       "      <td>4.0891</td>\n",
       "    </tr>\n",
       "    <tr>\n",
       "      <th>10</th>\n",
       "      <td>7.2063</td>\n",
       "      <td>2.3937</td>\n",
       "    </tr>\n",
       "    <tr>\n",
       "      <th>11</th>\n",
       "      <td>6.5355</td>\n",
       "      <td>1.3310</td>\n",
       "    </tr>\n",
       "    <tr>\n",
       "      <th>12</th>\n",
       "      <td>5.4503</td>\n",
       "      <td>1.7358</td>\n",
       "    </tr>\n",
       "    <tr>\n",
       "      <th>13</th>\n",
       "      <td>5.8449</td>\n",
       "      <td>2.4443</td>\n",
       "    </tr>\n",
       "    <tr>\n",
       "      <th>14</th>\n",
       "      <td>4.8979</td>\n",
       "      <td>3.1781</td>\n",
       "    </tr>\n",
       "    <tr>\n",
       "      <th>15</th>\n",
       "      <td>5.8055</td>\n",
       "      <td>4.6711</td>\n",
       "    </tr>\n",
       "    <tr>\n",
       "      <th>16</th>\n",
       "      <td>7.3641</td>\n",
       "      <td>5.9868</td>\n",
       "    </tr>\n",
       "    <tr>\n",
       "      <th>17</th>\n",
       "      <td>6.2592</td>\n",
       "      <td>4.6711</td>\n",
       "    </tr>\n",
       "    <tr>\n",
       "      <th>18</th>\n",
       "      <td>8.3703</td>\n",
       "      <td>7.5810</td>\n",
       "    </tr>\n",
       "    <tr>\n",
       "      <th>19</th>\n",
       "      <td>8.5676</td>\n",
       "      <td>4.6457</td>\n",
       "    </tr>\n",
       "    <tr>\n",
       "      <th>20</th>\n",
       "      <td>8.1676</td>\n",
       "      <td>4.6457</td>\n",
       "    </tr>\n",
       "  </tbody>\n",
       "</table>\n",
       "</div>"
      ],
      "text/plain": [
       "        x1      x2\n",
       "0   2.6487  4.5192\n",
       "1   1.5438  2.4443\n",
       "2   1.8990  4.2409\n",
       "3   2.4711  5.8097\n",
       "4   3.3590  6.4423\n",
       "5   3.2406  5.8097\n",
       "6   3.8128  6.3917\n",
       "7   4.4441  6.8725\n",
       "8   3.6747  6.7966\n",
       "9   7.5417  4.0891\n",
       "10  7.2063  2.3937\n",
       "11  6.5355  1.3310\n",
       "12  5.4503  1.7358\n",
       "13  5.8449  2.4443\n",
       "14  4.8979  3.1781\n",
       "15  5.8055  4.6711\n",
       "16  7.3641  5.9868\n",
       "17  6.2592  4.6711\n",
       "18  8.3703  7.5810\n",
       "19  8.5676  4.6457\n",
       "20  8.1676  4.6457"
      ]
     },
     "execution_count": 8,
     "metadata": {},
     "output_type": "execute_result"
    }
   ],
   "source": [
    "X_input"
   ]
  },
  {
   "cell_type": "code",
   "execution_count": 9,
   "metadata": {},
   "outputs": [
    {
     "data": {
      "text/html": [
       "<div>\n",
       "<style scoped>\n",
       "    .dataframe tbody tr th:only-of-type {\n",
       "        vertical-align: middle;\n",
       "    }\n",
       "\n",
       "    .dataframe tbody tr th {\n",
       "        vertical-align: top;\n",
       "    }\n",
       "\n",
       "    .dataframe thead th {\n",
       "        text-align: right;\n",
       "    }\n",
       "</style>\n",
       "<table border=\"1\" class=\"dataframe\">\n",
       "  <thead>\n",
       "    <tr style=\"text-align: right;\">\n",
       "      <th></th>\n",
       "      <th>label</th>\n",
       "    </tr>\n",
       "  </thead>\n",
       "  <tbody>\n",
       "    <tr>\n",
       "      <th>0</th>\n",
       "      <td>1</td>\n",
       "    </tr>\n",
       "    <tr>\n",
       "      <th>1</th>\n",
       "      <td>1</td>\n",
       "    </tr>\n",
       "    <tr>\n",
       "      <th>2</th>\n",
       "      <td>1</td>\n",
       "    </tr>\n",
       "    <tr>\n",
       "      <th>3</th>\n",
       "      <td>1</td>\n",
       "    </tr>\n",
       "    <tr>\n",
       "      <th>4</th>\n",
       "      <td>1</td>\n",
       "    </tr>\n",
       "    <tr>\n",
       "      <th>5</th>\n",
       "      <td>1</td>\n",
       "    </tr>\n",
       "    <tr>\n",
       "      <th>6</th>\n",
       "      <td>1</td>\n",
       "    </tr>\n",
       "    <tr>\n",
       "      <th>7</th>\n",
       "      <td>1</td>\n",
       "    </tr>\n",
       "    <tr>\n",
       "      <th>8</th>\n",
       "      <td>1</td>\n",
       "    </tr>\n",
       "    <tr>\n",
       "      <th>9</th>\n",
       "      <td>0</td>\n",
       "    </tr>\n",
       "    <tr>\n",
       "      <th>10</th>\n",
       "      <td>0</td>\n",
       "    </tr>\n",
       "    <tr>\n",
       "      <th>11</th>\n",
       "      <td>0</td>\n",
       "    </tr>\n",
       "    <tr>\n",
       "      <th>12</th>\n",
       "      <td>0</td>\n",
       "    </tr>\n",
       "    <tr>\n",
       "      <th>13</th>\n",
       "      <td>0</td>\n",
       "    </tr>\n",
       "    <tr>\n",
       "      <th>14</th>\n",
       "      <td>0</td>\n",
       "    </tr>\n",
       "    <tr>\n",
       "      <th>15</th>\n",
       "      <td>0</td>\n",
       "    </tr>\n",
       "    <tr>\n",
       "      <th>16</th>\n",
       "      <td>0</td>\n",
       "    </tr>\n",
       "    <tr>\n",
       "      <th>17</th>\n",
       "      <td>0</td>\n",
       "    </tr>\n",
       "    <tr>\n",
       "      <th>18</th>\n",
       "      <td>0</td>\n",
       "    </tr>\n",
       "    <tr>\n",
       "      <th>19</th>\n",
       "      <td>0</td>\n",
       "    </tr>\n",
       "    <tr>\n",
       "      <th>20</th>\n",
       "      <td>0</td>\n",
       "    </tr>\n",
       "  </tbody>\n",
       "</table>\n",
       "</div>"
      ],
      "text/plain": [
       "    label\n",
       "0       1\n",
       "1       1\n",
       "2       1\n",
       "3       1\n",
       "4       1\n",
       "5       1\n",
       "6       1\n",
       "7       1\n",
       "8       1\n",
       "9       0\n",
       "10      0\n",
       "11      0\n",
       "12      0\n",
       "13      0\n",
       "14      0\n",
       "15      0\n",
       "16      0\n",
       "17      0\n",
       "18      0\n",
       "19      0\n",
       "20      0"
      ]
     },
     "execution_count": 9,
     "metadata": {},
     "output_type": "execute_result"
    }
   ],
   "source": [
    "Y_label"
   ]
  },
  {
   "cell_type": "code",
   "execution_count": 10,
   "metadata": {},
   "outputs": [
    {
     "data": {
      "text/plain": [
       "<matplotlib.collections.PathCollection at 0x1c1fd89be48>"
      ]
     },
     "execution_count": 10,
     "metadata": {},
     "output_type": "execute_result"
    },
    {
     "data": {
      "image/png": "[encoded data removed]",
      "text/plain": [
       "<Figure size 432x288 with 1 Axes>"
      ]
     },
     "metadata": {
      "needs_background": "light"
     },
     "output_type": "display_data"
    }
   ],
   "source": [
    "plt.scatter(data.x1,data.x2,c=data.label)"
   ]
  },
  {
   "cell_type": "code",
   "execution_count": 11,
   "metadata": {},
   "outputs": [],
   "source": [
    "#defining the perceptron\n",
    "\n",
    "#define placeholder for features and labels\n",
    "x=tf.placeholder(tf.float32,[None,2])  # It implies 2 features\n",
    "y=tf.placeholder(tf.float32,[None,1])  # Labels   "
   ]
  },
  {
   "cell_type": "code",
   "execution_count": 12,
   "metadata": {},
   "outputs": [],
   "source": [
    "#first layer\n",
    "#weight and bias\n",
    "weight=tf.Variable(tf.truncated_normal([2,100],stddev=0.1))\n",
    "\n",
    "bias=tf.Variable(tf.truncated_normal([100],stddev=0.1))\n",
    "#input function\n",
    "I=tf.add(tf.matmul(x,weight),bias)\n",
    "#activation function\n",
    "output=tf.nn.relu(I)"
   ]
  },
  {
   "cell_type": "code",
   "execution_count": 13,
   "metadata": {},
   "outputs": [],
   "source": [
    "#second layer\n",
    "#weights and bias\n",
    "weight2=tf.Variable(tf.truncated_normal([100,150],stddev=0.1))\n",
    "bias2=tf.Variable(tf.truncated_normal([150],stddev=0.1))\n",
    "#input function\n",
    "I2=tf.add(tf.matmul(output,weight2),bias2)\n",
    "#activation function\n",
    "output2=tf.nn.relu(I2)"
   ]
  },
  {
   "cell_type": "code",
   "execution_count": 14,
   "metadata": {},
   "outputs": [],
   "source": [
    "#third layer\n",
    "#weight and bias\n",
    "weight3=tf.Variable(tf.truncated_normal([150,1],stddev=0.1))\n",
    "bias3=tf.Variable(tf.truncated_normal([1],stddev=0.1))\n",
    "#input function\n",
    "I3=tf.add(tf.matmul(output2,weight3),bias3)\n",
    "#activation function\n",
    "output3=tf.nn.sigmoid(I3)"
   ]
  },
  {
   "cell_type": "code",
   "execution_count": 15,
   "metadata": {},
   "outputs": [
    {
     "name": "stdout",
     "output_type": "stream",
     "text": [
      "WARNING:tensorflow:From C:\\Users\\Gowrav Tata\\Anaconda3\\envs\\tf\\lib\\site-packages\\tensorflow_core\\python\\ops\\nn_impl.py:183: where (from tensorflow.python.ops.array_ops) is deprecated and will be removed in a future version.\n",
      "Instructions for updating:\n",
      "Use tf.where in 2.0, which has the same broadcast rule as np.where\n"
     ]
    }
   ],
   "source": [
    "#define the cost/loss functions and the optimizer\n",
    "\n",
    "#ind_loss=tf.nn.sigmoid_cross_entropy_with_logits(labels=y,logits=output)\n",
    "#loss=tf.reduce_mean(ind_loss)\n",
    "loss=tf.reduce_mean(tf.nn.sigmoid_cross_entropy_with_logits(labels=y,logits=output3))"
   ]
  },
  {
   "cell_type": "code",
   "execution_count": 16,
   "metadata": {},
   "outputs": [],
   "source": [
    "#optimizer\n",
    "gdo=tf.train.GradientDescentOptimizer(0.01)\n",
    "train=gdo.minimize(loss)"
   ]
  },
  {
   "cell_type": "code",
   "execution_count": 17,
   "metadata": {},
   "outputs": [],
   "source": [
    "#initiate the varaibles\n",
    "init=tf.global_variables_initializer()"
   ]
  },
  {
   "cell_type": "code",
   "execution_count": 18,
   "metadata": {},
   "outputs": [],
   "source": [
    "sess=tf.Session()\n",
    "sess.run(init)"
   ]
  },
  {
   "cell_type": "code",
   "execution_count": 19,
   "metadata": {
    "scrolled": true
   },
   "outputs": [
    {
     "data": {
      "text/plain": [
       "array([[-0.04315375, -0.07137368,  0.09620976, -0.0598188 , -0.05375872,\n",
       "        -0.00754571, -0.05707511, -0.0561253 ,  0.00981879, -0.00986101,\n",
       "        -0.00262257,  0.10235399, -0.05953219,  0.08049785, -0.01728911,\n",
       "         0.0009123 ,  0.15343216,  0.01559648,  0.11479749, -0.10626063,\n",
       "        -0.04057953,  0.02202041,  0.05737508, -0.09579907,  0.14072905,\n",
       "         0.13599883,  0.15813695,  0.15320162,  0.02513498,  0.01337445,\n",
       "         0.14266516, -0.034675  , -0.01496853, -0.11288085, -0.06730787,\n",
       "         0.19690543, -0.02034531, -0.09225072,  0.03340064,  0.03867017,\n",
       "        -0.02126134,  0.06567569,  0.1011763 ,  0.00077072, -0.12588277,\n",
       "         0.06337579, -0.02151143,  0.10302299,  0.06273412, -0.13893206,\n",
       "        -0.07929752, -0.10407787, -0.02983042, -0.05123833, -0.00870055,\n",
       "        -0.14098231,  0.157704  ,  0.04060065, -0.14000802, -0.10648499,\n",
       "        -0.12366182,  0.00334587, -0.05287931,  0.01013714,  0.03958078,\n",
       "        -0.0083046 ,  0.0516264 ,  0.15927623,  0.15565984, -0.18006872,\n",
       "         0.08883282,  0.05927961,  0.08705945,  0.11843474, -0.06936421,\n",
       "         0.03809151, -0.06207537, -0.05307307, -0.13882314,  0.0160965 ,\n",
       "         0.04514201, -0.12382485, -0.05286093,  0.02478169, -0.07822599,\n",
       "        -0.05052846, -0.05961693,  0.04495197,  0.06772067, -0.11828502,\n",
       "        -0.05876292, -0.05155256, -0.03417693, -0.03577268,  0.16747187,\n",
       "         0.06667614,  0.1387798 , -0.02261638,  0.00119571, -0.06187459],\n",
       "       [ 0.08637398,  0.08525211,  0.12382181,  0.00168954, -0.08935487,\n",
       "         0.11169737, -0.0740483 , -0.06811526, -0.02383669, -0.05571355,\n",
       "        -0.00448186,  0.03938863,  0.08291706,  0.02830757,  0.01627181,\n",
       "         0.08520805, -0.14229628,  0.0442358 , -0.14591256,  0.03337381,\n",
       "        -0.00165024,  0.01701255,  0.09176319,  0.03066913, -0.00532961,\n",
       "         0.17363448, -0.07901957,  0.08346953, -0.12861384, -0.05583694,\n",
       "        -0.0522866 ,  0.12582608,  0.01769294,  0.0211387 ,  0.07465453,\n",
       "         0.12984632,  0.02497238, -0.14197426,  0.08636384, -0.03132857,\n",
       "        -0.11118799,  0.04040584, -0.10878485, -0.0500901 ,  0.05148106,\n",
       "        -0.05392388,  0.01426412,  0.02701212, -0.0451281 ,  0.1492244 ,\n",
       "         0.05667813,  0.06787648, -0.04478407,  0.14292805, -0.05997676,\n",
       "        -0.02236768,  0.02948218, -0.02709299,  0.04164297, -0.02970373,\n",
       "        -0.16175906,  0.1161307 , -0.02055706, -0.00372501,  0.01851225,\n",
       "         0.04723613,  0.06468914, -0.07044099,  0.0489355 ,  0.06284847,\n",
       "         0.15185982, -0.01373984, -0.00801029, -0.04031778,  0.06706355,\n",
       "        -0.03498226, -0.05562075, -0.0746051 , -0.00646687, -0.0882912 ,\n",
       "         0.04324564,  0.03349265,  0.10643627,  0.17784214,  0.01563236,\n",
       "         0.16565937,  0.10339599,  0.09719138,  0.1047067 , -0.04754169,\n",
       "        -0.18308845,  0.0008789 , -0.10184815,  0.13313065,  0.16301696,\n",
       "         0.06167964,  0.18621708, -0.06476846,  0.13435112, -0.05140493]],\n",
       "      dtype=float32)"
      ]
     },
     "execution_count": 19,
     "metadata": {},
     "output_type": "execute_result"
    }
   ],
   "source": [
    "sess.run(weight)"
   ]
  },
  {
   "cell_type": "code",
   "execution_count": 20,
   "metadata": {},
   "outputs": [
    {
     "data": {
      "text/plain": [
       "array([ 0.0868191 , -0.06446385, -0.0694015 ,  0.04032831,  0.00626239,\n",
       "        0.09657108,  0.07688476,  0.01980313, -0.08073485,  0.09059884,\n",
       "        0.09187087, -0.0021132 , -0.08818052, -0.02928307, -0.08299392,\n",
       "        0.12840489,  0.056218  ,  0.00269061,  0.10742319,  0.08276308,\n",
       "        0.13214128,  0.11224563, -0.05364224,  0.10716819, -0.05511285,\n",
       "        0.07277088,  0.07487696, -0.01779967, -0.05564898, -0.02035133,\n",
       "        0.08484476, -0.0346912 , -0.17177135,  0.03461668,  0.08687788,\n",
       "       -0.10274126,  0.13619421,  0.11932176,  0.10586078, -0.06630637,\n",
       "        0.03252782,  0.01164722, -0.10408812,  0.02346139, -0.03039975,\n",
       "        0.16945438,  0.07764942,  0.06667379,  0.10182478, -0.16940431,\n",
       "       -0.07551268,  0.06028587, -0.09477323,  0.00857608, -0.02397729,\n",
       "       -0.09703087,  0.01204799, -0.06517317,  0.06213447,  0.02323986,\n",
       "        0.08502611, -0.11757009,  0.00972845,  0.15111476,  0.04755508,\n",
       "       -0.06246397, -0.06482822,  0.00594361, -0.07200016,  0.03856415,\n",
       "       -0.10674395,  0.1352627 ,  0.06276076, -0.14703643,  0.10780996,\n",
       "       -0.07781537,  0.0607501 , -0.06005535,  0.04277974,  0.01540435,\n",
       "        0.06143908,  0.09372995,  0.01624852,  0.04975753,  0.10660049,\n",
       "       -0.05585789, -0.02202841, -0.02507266,  0.06224994, -0.10264086,\n",
       "       -0.19165343, -0.10197078, -0.1238758 ,  0.00089621, -0.08563159,\n",
       "        0.08888905, -0.00269164, -0.06719641,  0.19628511, -0.15549734],\n",
       "      dtype=float32)"
      ]
     },
     "execution_count": 20,
     "metadata": {},
     "output_type": "execute_result"
    }
   ],
   "source": [
    "sess.run(bias)"
   ]
  },
  {
   "cell_type": "code",
   "execution_count": 21,
   "metadata": {},
   "outputs": [],
   "source": [
    "for i in range(500):\n",
    "    final_train=sess.run(train,feed_dict={x:X_input,y:Y_label})"
   ]
  },
  {
   "cell_type": "code",
   "execution_count": 22,
   "metadata": {},
   "outputs": [
    {
     "data": {
      "text/plain": [
       "array([[-0.00798858, -0.05847822,  0.0464853 , -0.0598188 , -0.05375872,\n",
       "         0.01057279, -0.05707511, -0.0561253 ,  0.00981879, -0.00986101,\n",
       "         0.0412613 ,  0.17684077, -0.0582791 ,  0.16149266, -0.01728911,\n",
       "        -0.04053766,  0.211425  ,  0.02733189,  0.12111431, -0.10668898,\n",
       "        -0.04572474, -0.00638913, -0.01232325, -0.08170561,  0.21611111,\n",
       "         0.0738795 ,  0.20583713,  0.27808544,  0.02513498,  0.01337445,\n",
       "         0.22205923, -0.06480477, -0.01496853, -0.11288085, -0.08508623,\n",
       "         0.2278461 , -0.01965676, -0.09225072,  0.03737106,  0.08095106,\n",
       "        -0.02126134,  0.0398813 ,  0.05973269,  0.00077072, -0.12588277,\n",
       "         0.05613605, -0.02685457,  0.10756584,  0.09328371, -0.15991712,\n",
       "        -0.08295206, -0.08472938, -0.02983042, -0.07350403, -0.00870055,\n",
       "        -0.14098231,  0.24223694,  0.03147328, -0.14000802, -0.10648499,\n",
       "        -0.12366182, -0.00469935, -0.05287931, -0.04221897,  0.05458776,\n",
       "        -0.02232689, -0.02104003,  0.24407995,  0.18681186, -0.18006872,\n",
       "         0.15788104,  0.11220416,  0.07880257,  0.13644972, -0.07716905,\n",
       "         0.04911054, -0.06207537, -0.05307307, -0.13882314,  0.02526674,\n",
       "         0.01481955, -0.12387898, -0.06915259, -0.04304992, -0.0778116 ,\n",
       "        -0.08223211, -0.04888105,  0.02378986,  0.08316901, -0.11828502,\n",
       "        -0.05876292, -0.05155256, -0.03417693, -0.07722029,  0.2209348 ,\n",
       "         0.12707292,  0.18136093, -0.02261638, -0.03746494, -0.06187459],\n",
       "       [ 0.07105459,  0.12595254,  0.15926266,  0.00168954, -0.08935487,\n",
       "         0.09406501, -0.0740483 , -0.06811526, -0.02383669, -0.05571355,\n",
       "        -0.03563984, -0.00811961,  0.11316907,  0.00258313,  0.01627181,\n",
       "         0.11326928, -0.12313002,  0.05292065, -0.13873106,  0.03238364,\n",
       "        -0.01166798,  0.02900248,  0.15585704,  0.05530887,  0.00319949,\n",
       "         0.22058363, -0.11435021,  0.00135548, -0.12861384, -0.05583694,\n",
       "        -0.11167082,  0.16530001,  0.01769294,  0.0211387 ,  0.13559318,\n",
       "         0.11686529, -0.01611141, -0.14197426,  0.15125024, -0.0261112 ,\n",
       "        -0.11118799,  0.01099571, -0.12408854, -0.0500901 ,  0.05148106,\n",
       "        -0.06016313, -0.00852268,  0.00324827, -0.03639008,  0.10953468,\n",
       "         0.04849996,  0.10581231, -0.04478407,  0.1761035 , -0.05997676,\n",
       "        -0.02236768, -0.01428504, -0.02964764,  0.04164297, -0.02970373,\n",
       "        -0.16175906,  0.14289965, -0.02055706,  0.03870865,  0.02103042,\n",
       "         0.03465053,  0.09775372, -0.11070791,  0.06426752,  0.06284847,\n",
       "         0.089165  , -0.06861517, -0.02106126, -0.04834748,  0.04821042,\n",
       "        -0.02879674, -0.05562075, -0.0746051 , -0.00646687, -0.0863752 ,\n",
       "         0.07133508,  0.03337182,  0.13979602,  0.21420293,  0.01567651,\n",
       "         0.1444065 ,  0.15555166,  0.09301952,  0.05485391, -0.04754169,\n",
       "        -0.18308845,  0.0008789 , -0.10184815,  0.19759265,  0.11533759,\n",
       "         0.00497105,  0.18079089, -0.06476846,  0.19781478, -0.05140493]],\n",
       "      dtype=float32)"
      ]
     },
     "execution_count": 22,
     "metadata": {},
     "output_type": "execute_result"
    }
   ],
   "source": [
    "sess.run(weight)"
   ]
  },
  {
   "cell_type": "code",
   "execution_count": 23,
   "metadata": {},
   "outputs": [
    {
     "data": {
      "text/plain": [
       "array([ 0.08674387, -0.05735343, -0.06637385,  0.04032831,  0.00626239,\n",
       "        0.09455288,  0.07688476,  0.01980313, -0.08073485,  0.09059884,\n",
       "        0.08949675, -0.00468525, -0.08222675, -0.02785783, -0.08299392,\n",
       "        0.13007985,  0.06232476,  0.00456259,  0.10838632,  0.08257711,\n",
       "        0.1293047 ,  0.11165191, -0.04700242,  0.11215749, -0.04906462,\n",
       "        0.07603265,  0.07166162, -0.02305216, -0.05564898, -0.02035133,\n",
       "        0.08039533, -0.02919903, -0.17177135,  0.03461668,  0.09651115,\n",
       "       -0.10248049,  0.1295086 ,  0.11932176,  0.11596685, -0.0623777 ,\n",
       "        0.03252782,  0.00600542, -0.11047758,  0.02346139, -0.03039975,\n",
       "        0.16682692,  0.07271913,  0.06364162,  0.10439485, -0.17601973,\n",
       "       -0.07691964,  0.06713871, -0.09477323,  0.01364174, -0.02397729,\n",
       "       -0.09703087,  0.01028967, -0.06680688,  0.06213447,  0.02323986,\n",
       "        0.08502611, -0.11394417,  0.00972845,  0.15343975,  0.04872959,\n",
       "       -0.06447634, -0.06337599,  0.00482543, -0.06723176,  0.03856415,\n",
       "       -0.11235291,  0.13003105,  0.06034332, -0.14680602,  0.10461722,\n",
       "       -0.07603103,  0.0607501 , -0.06005535,  0.04277974,  0.01682032,\n",
       "        0.06471152,  0.09370146,  0.02140676,  0.05143077,  0.10703687,\n",
       "       -0.0605055 , -0.01215495, -0.02693032,  0.0544187 , -0.10264086,\n",
       "       -0.19165343, -0.10197078, -0.1238758 ,  0.01096041, -0.08956338,\n",
       "        0.084718  , -0.00034702, -0.06719641,  0.20375592, -0.15549734],\n",
       "      dtype=float32)"
      ]
     },
     "execution_count": 23,
     "metadata": {},
     "output_type": "execute_result"
    }
   ],
   "source": [
    "sess.run(bias)"
   ]
  },
  {
   "cell_type": "code",
   "execution_count": 24,
   "metadata": {},
   "outputs": [],
   "source": [
    "result=sess.run(output3,feed_dict={x:X_input})"
   ]
  },
  {
   "cell_type": "code",
   "execution_count": 25,
   "metadata": {},
   "outputs": [],
   "source": [
    "ypred=result.round()"
   ]
  },
  {
   "cell_type": "code",
   "execution_count": 26,
   "metadata": {},
   "outputs": [
    {
     "data": {
      "text/plain": [
       "1.0"
      ]
     },
     "execution_count": 26,
     "metadata": {},
     "output_type": "execute_result"
    }
   ],
   "source": [
    "accuracy_score(Y_label,ypred)"
   ]
  },
  {
   "cell_type": "code",
   "execution_count": 27,
   "metadata": {},
   "outputs": [
    {
     "data": {
      "text/plain": [
       "array([[12,  0],\n",
       "       [ 0,  9]], dtype=int64)"
      ]
     },
     "execution_count": 27,
     "metadata": {},
     "output_type": "execute_result"
    }
   ],
   "source": [
    "confusion_matrix(Y_label,ypred)"
   ]
  },
  {
   "cell_type": "code",
   "execution_count": 28,
   "metadata": {},
   "outputs": [],
   "source": [
    "# It is always a healthy practice to close the session, as it may hassle up if more number of notebooks are running in parallel\n",
    "sess.close()"
   ]
  }
 ],
 "metadata": {
  "kernelspec": {
   "display_name": "Python 3",
   "language": "python",
   "name": "python3"
  },
  "language_info": {
   "codemirror_mode": {
    "name": "ipython",
    "version": 3
   },
   "file_extension": ".py",
   "mimetype": "text/x-python",
   "name": "python",
   "nbconvert_exporter": "python",
   "pygments_lexer": "ipython3",
   "version": "3.7.5"
  }
 },
 "nbformat": 4,
 "nbformat_minor": 2
}
